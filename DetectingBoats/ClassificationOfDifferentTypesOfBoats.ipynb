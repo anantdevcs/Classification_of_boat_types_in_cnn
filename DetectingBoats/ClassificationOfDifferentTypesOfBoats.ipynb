{
 "cells": [
  {
   "cell_type": "code",
   "execution_count": 6,
   "metadata": {},
   "outputs": [],
   "source": [
    "#importing all the dependencies\n",
    "import os\n",
    "import cv2\n",
    "import matplotlib.pyplot as plt\n",
    "%matplotlib inline\n",
    "import tensorflow as tf\n",
    "import numpy as np\n",
    "import random as rnd\n",
    "rnd.seed(0)\n",
    "import pandas as pd\n"
   ]
  },
  {
   "cell_type": "code",
   "execution_count": 7,
   "metadata": {},
   "outputs": [],
   "source": [
    "#Global Variables\n",
    "DIR = os.getcwd()\n",
    "#DIR is current directory\n",
    "CATEGORY = [\"buoy\",\"cruise_ship\",\"ferry_boat\",\"freight_boat\",\"gondola\",\n",
    "            \"inflatable_boat\",\"kayak\",\"paper_boat\",\"sailboat\"]\n",
    "IMG_SIZE=40\n",
    "NUM_CLASSES = 9\n",
    "TEST_DIR=os.path.join(DIR,\"TEST\")\n"
   ]
  },
  {
   "cell_type": "code",
   "execution_count": 8,
   "metadata": {},
   "outputs": [],
   "source": [
    "#helper functions\n",
    "def one_hot(num):\n",
    "    vec = np.zeros((9,1))\n",
    "    vec[num]=1\n",
    "    return vec"
   ]
  },
  {
   "cell_type": "code",
   "execution_count": 12,
   "metadata": {},
   "outputs": [
    {
     "name": "stdout",
     "output_type": "stream",
     "text": [
      "Train data scanned successfully\n",
      "# of images are\n",
      "0\n",
      "The shape of x_train , y_train\n",
      "(0, 40, 40, 3)\n",
      "(0, 9)\n"
     ]
    }
   ],
   "source": [
    "#create training data\n",
    "container=[]\n",
    "for type in CATEGORY:\n",
    "    path=os.path.join(DIR,type)\n",
    "    class_num = CATEGORY.index(type)\n",
    "    class_one_hot = one_hot(class_num)\n",
    "    for img in os.listdir(path):\n",
    "        try:\n",
    "            img_arr=cv2.imread(os.path.join(path,img))\n",
    "            new_arr = cv2.resize(img_arr,(IMG_SIZE,IMG_SIZE))\n",
    "            new_arr=new_arr/255.00000\n",
    "            new_arr = new_arr.reshape(1,IMG_SIZE,IMG_SIZE,3)\n",
    "            container.append((new_arr,class_one_hot))\n",
    "        except Exception as e:\n",
    "            print(\"Incompatible File\")\n",
    "            pass\n",
    "rnd.shuffle(container)\n",
    "print(\"Train data scanned successfully\")\n",
    "print(\"# of images are\")\n",
    "print(len(container))\n",
    "x_train = np.zeros((len(container),IMG_SIZE,IMG_SIZE,3))\n",
    "y_train = np.zeros((len(container),NUM_CLASSES))\n",
    "for i in range(len(container)):\n",
    "    x_train[i] = container[i][0]\n",
    "    y_train[i] = container[i][1].reshape(NUM_CLASSES,)\n",
    "print(\"The shape of x_train , y_train\")\n",
    "print(x_train.shape)\n",
    "print(y_train.shape)"
   ]
  },
  {
   "cell_type": "code",
   "execution_count": 13,
   "metadata": {},
   "outputs": [
    {
     "name": "stdout",
     "output_type": "stream",
     "text": [
      "C:\\Users\\Dr. Mahendra Yadav\\Desktop\\Project\\DetectingBoats\\TEST\\buoy\n",
      "C:\\Users\\Dr. Mahendra Yadav\\Desktop\\Project\\DetectingBoats\\TEST\\cruise_ship\n",
      "C:\\Users\\Dr. Mahendra Yadav\\Desktop\\Project\\DetectingBoats\\TEST\\ferry_boat\n",
      "C:\\Users\\Dr. Mahendra Yadav\\Desktop\\Project\\DetectingBoats\\TEST\\freight_boat\n",
      "C:\\Users\\Dr. Mahendra Yadav\\Desktop\\Project\\DetectingBoats\\TEST\\gondola\n",
      "C:\\Users\\Dr. Mahendra Yadav\\Desktop\\Project\\DetectingBoats\\TEST\\inflatable_boat\n",
      "C:\\Users\\Dr. Mahendra Yadav\\Desktop\\Project\\DetectingBoats\\TEST\\kayak\n",
      "C:\\Users\\Dr. Mahendra Yadav\\Desktop\\Project\\DetectingBoats\\TEST\\paper_boat\n",
      "C:\\Users\\Dr. Mahendra Yadav\\Desktop\\Project\\DetectingBoats\\TEST\\sailboat\n",
      "Cross Valiadtion data scanned successfully\n",
      "# of images are\n",
      "0\n",
      "The shape of x_cross_validation , y_cross_validation\n",
      "(0, 40, 40, 3)\n",
      "(0, 9)\n"
     ]
    }
   ],
   "source": [
    "#have validation data\n",
    "\n",
    "\n",
    "\n",
    "\n",
    "container_cv=[]\n",
    "for type in CATEGORY:\n",
    "    path=os.path.join(TEST_DIR,type)\n",
    "    print(path)\n",
    "    class_num = CATEGORY.index(type)\n",
    "    class_one_hot = one_hot(class_num)\n",
    "    for img in os.listdir(path):\n",
    "        try:\n",
    "            img_arr=cv2.imread(os.path.join(path,img))\n",
    "            new_arr = cv2.resize(img_arr,(IMG_SIZE,IMG_SIZE))\n",
    "            new_arr=new_arr/255\n",
    "            new_arr = new_arr.reshape(1,IMG_SIZE,IMG_SIZE,3)\n",
    "            container_cv.append((new_arr,class_one_hot))\n",
    "        except Exception as e:\n",
    "            print(\"Incompatible File\")\n",
    "            pass\n",
    "rnd.shuffle(container_cv)\n",
    "print(\"Cross Valiadtion data scanned successfully\")\n",
    "print(\"# of images are\")\n",
    "print(len(container))\n",
    "x_test = np.zeros((len(container_cv),IMG_SIZE,IMG_SIZE,3))\n",
    "y_test = np.zeros((len(container_cv),NUM_CLASSES))\n",
    "for i in range(len(container_cv)):\n",
    "    x_test[i] = container_cv[i][0]\n",
    "    y_test[i] = container_cv[i][1].reshape(NUM_CLASSES,)\n",
    "print(\"The shape of x_cross_validation , y_cross_validation\")\n",
    "print(x_test.shape)\n",
    "print(y_test.shape)"
   ]
  },
  {
   "cell_type": "code",
   "execution_count": 14,
   "metadata": {},
   "outputs": [
    {
     "name": "stdout",
     "output_type": "stream",
     "text": [
      "WARNING:tensorflow:From C:\\Users\\Dr. Mahendra Yadav\\Anaconda3\\lib\\site-packages\\tensorflow\\python\\ops\\resource_variable_ops.py:435: colocate_with (from tensorflow.python.framework.ops) is deprecated and will be removed in a future version.\n",
      "Instructions for updating:\n",
      "Colocations handled automatically by placer.\n",
      "_________________________________________________________________\n",
      "Layer (type)                 Output Shape              Param #   \n",
      "=================================================================\n",
      "conv2d (Conv2D)              (None, 36, 36, 32)        2432      \n",
      "_________________________________________________________________\n",
      "max_pooling2d (MaxPooling2D) (None, 18, 18, 32)        0         \n",
      "_________________________________________________________________\n",
      "conv2d_1 (Conv2D)            (None, 16, 16, 64)        18496     \n",
      "_________________________________________________________________\n",
      "flatten (Flatten)            (None, 16384)             0         \n",
      "_________________________________________________________________\n",
      "dense (Dense)                (None, 9)                 147465    \n",
      "=================================================================\n",
      "Total params: 168,393\n",
      "Trainable params: 168,393\n",
      "Non-trainable params: 0\n",
      "_________________________________________________________________\n",
      "None\n",
      "Train on 0 samples, validate on 0 samples\n",
      "WARNING:tensorflow:From C:\\Users\\Dr. Mahendra Yadav\\Anaconda3\\lib\\site-packages\\tensorflow\\python\\ops\\math_ops.py:3066: to_int32 (from tensorflow.python.ops.math_ops) is deprecated and will be removed in a future version.\n",
      "Instructions for updating:\n",
      "Use tf.cast instead.\n",
      "Epoch 1/200\n"
     ]
    },
    {
     "ename": "IndexError",
     "evalue": "list index out of range",
     "output_type": "error",
     "traceback": [
      "\u001b[1;31m---------------------------------------------------------------------------\u001b[0m",
      "\u001b[1;31mIndexError\u001b[0m                                Traceback (most recent call last)",
      "\u001b[1;32m<ipython-input-14-39bcacbfe1f7>\u001b[0m in \u001b[0;36m<module>\u001b[1;34m\u001b[0m\n\u001b[0;32m     17\u001b[0m history=model.fit(x_train,y_train,\n\u001b[0;32m     18\u001b[0m                   \u001b[0mepochs\u001b[0m\u001b[1;33m=\u001b[0m\u001b[1;36m200\u001b[0m\u001b[1;33m,\u001b[0m\u001b[1;33m\u001b[0m\u001b[1;33m\u001b[0m\u001b[0m\n\u001b[1;32m---> 19\u001b[1;33m                  validation_data=(x_test,y_test))\n\u001b[0m\u001b[0;32m     20\u001b[0m \u001b[1;31m# summarize history for accuracy\u001b[0m\u001b[1;33m\u001b[0m\u001b[1;33m\u001b[0m\u001b[1;33m\u001b[0m\u001b[0m\n\u001b[0;32m     21\u001b[0m \u001b[0mplt\u001b[0m\u001b[1;33m.\u001b[0m\u001b[0mplot\u001b[0m\u001b[1;33m(\u001b[0m\u001b[0mhistory\u001b[0m\u001b[1;33m.\u001b[0m\u001b[0mhistory\u001b[0m\u001b[1;33m[\u001b[0m\u001b[1;34m'acc'\u001b[0m\u001b[1;33m]\u001b[0m\u001b[1;33m)\u001b[0m\u001b[1;33m\u001b[0m\u001b[1;33m\u001b[0m\u001b[0m\n",
      "\u001b[1;32m~\\Anaconda3\\lib\\site-packages\\tensorflow\\python\\keras\\engine\\training.py\u001b[0m in \u001b[0;36mfit\u001b[1;34m(self, x, y, batch_size, epochs, verbose, callbacks, validation_split, validation_data, shuffle, class_weight, sample_weight, initial_epoch, steps_per_epoch, validation_steps, max_queue_size, workers, use_multiprocessing, **kwargs)\u001b[0m\n\u001b[0;32m    878\u001b[0m           \u001b[0minitial_epoch\u001b[0m\u001b[1;33m=\u001b[0m\u001b[0minitial_epoch\u001b[0m\u001b[1;33m,\u001b[0m\u001b[1;33m\u001b[0m\u001b[1;33m\u001b[0m\u001b[0m\n\u001b[0;32m    879\u001b[0m           \u001b[0msteps_per_epoch\u001b[0m\u001b[1;33m=\u001b[0m\u001b[0msteps_per_epoch\u001b[0m\u001b[1;33m,\u001b[0m\u001b[1;33m\u001b[0m\u001b[1;33m\u001b[0m\u001b[0m\n\u001b[1;32m--> 880\u001b[1;33m           validation_steps=validation_steps)\n\u001b[0m\u001b[0;32m    881\u001b[0m \u001b[1;33m\u001b[0m\u001b[0m\n\u001b[0;32m    882\u001b[0m   def evaluate(self,\n",
      "\u001b[1;32m~\\Anaconda3\\lib\\site-packages\\tensorflow\\python\\keras\\engine\\training_arrays.py\u001b[0m in \u001b[0;36mmodel_iteration\u001b[1;34m(model, inputs, targets, sample_weights, batch_size, epochs, verbose, callbacks, val_inputs, val_targets, val_sample_weights, shuffle, initial_epoch, steps_per_epoch, validation_steps, mode, validation_in_fit, **kwargs)\u001b[0m\n\u001b[0;32m    344\u001b[0m           \u001b[1;32mbreak\u001b[0m\u001b[1;33m\u001b[0m\u001b[1;33m\u001b[0m\u001b[0m\n\u001b[0;32m    345\u001b[0m \u001b[1;33m\u001b[0m\u001b[0m\n\u001b[1;32m--> 346\u001b[1;33m     \u001b[0maggregator\u001b[0m\u001b[1;33m.\u001b[0m\u001b[0mfinalize\u001b[0m\u001b[1;33m(\u001b[0m\u001b[1;33m)\u001b[0m\u001b[1;33m\u001b[0m\u001b[1;33m\u001b[0m\u001b[0m\n\u001b[0m\u001b[0;32m    347\u001b[0m     \u001b[0mresults\u001b[0m \u001b[1;33m=\u001b[0m \u001b[0maggregator\u001b[0m\u001b[1;33m.\u001b[0m\u001b[0mresults\u001b[0m\u001b[1;33m\u001b[0m\u001b[1;33m\u001b[0m\u001b[0m\n\u001b[0;32m    348\u001b[0m     \u001b[0mepoch_logs\u001b[0m\u001b[1;33m.\u001b[0m\u001b[0mupdate\u001b[0m\u001b[1;33m(\u001b[0m\u001b[0mtraining_utils\u001b[0m\u001b[1;33m.\u001b[0m\u001b[0mmake_logs\u001b[0m\u001b[1;33m(\u001b[0m\u001b[0mmodel\u001b[0m\u001b[1;33m,\u001b[0m \u001b[0mresults\u001b[0m\u001b[1;33m,\u001b[0m \u001b[0mmode\u001b[0m\u001b[1;33m)\u001b[0m\u001b[1;33m)\u001b[0m\u001b[1;33m\u001b[0m\u001b[1;33m\u001b[0m\u001b[0m\n",
      "\u001b[1;32m~\\Anaconda3\\lib\\site-packages\\tensorflow\\python\\keras\\engine\\training_utils.py\u001b[0m in \u001b[0;36mfinalize\u001b[1;34m(self)\u001b[0m\n\u001b[0;32m    106\u001b[0m \u001b[1;33m\u001b[0m\u001b[0m\n\u001b[0;32m    107\u001b[0m   \u001b[1;32mdef\u001b[0m \u001b[0mfinalize\u001b[0m\u001b[1;33m(\u001b[0m\u001b[0mself\u001b[0m\u001b[1;33m)\u001b[0m\u001b[1;33m:\u001b[0m\u001b[1;33m\u001b[0m\u001b[1;33m\u001b[0m\u001b[0m\n\u001b[1;32m--> 108\u001b[1;33m     \u001b[0mself\u001b[0m\u001b[1;33m.\u001b[0m\u001b[0mresults\u001b[0m\u001b[1;33m[\u001b[0m\u001b[1;36m0\u001b[0m\u001b[1;33m]\u001b[0m \u001b[1;33m/=\u001b[0m \u001b[0mself\u001b[0m\u001b[1;33m.\u001b[0m\u001b[0mnum_samples_or_steps\u001b[0m\u001b[1;33m\u001b[0m\u001b[1;33m\u001b[0m\u001b[0m\n\u001b[0m\u001b[0;32m    109\u001b[0m \u001b[1;33m\u001b[0m\u001b[0m\n\u001b[0;32m    110\u001b[0m \u001b[1;33m\u001b[0m\u001b[0m\n",
      "\u001b[1;31mIndexError\u001b[0m: list index out of range"
     ]
    }
   ],
   "source": [
    "#create the model\n",
    "\n",
    "model=tf.keras.Sequential([\n",
    "    tf.keras.layers.Conv2D(32,input_shape=(IMG_SIZE,IMG_SIZE,3),\n",
    "                          kernel_size=(5, 5), strides=(1, 1),\n",
    "                            activation='relu'),\n",
    "    tf.keras.layers.MaxPooling2D(pool_size=(2, 2), strides=(2, 2)),\n",
    "    \n",
    "    tf.keras.layers.Conv2D(64,kernel_size=(3, 3), strides=(1, 1),\n",
    "                            activation='relu'),\n",
    "    tf.keras.layers.Flatten(),\n",
    "    tf.keras.layers.Dense(NUM_CLASSES,activation='softmax')\n",
    "])\n",
    "print(model.summary())\n",
    "model.compile(optimizer=tf.keras.optimizers.Adam(0.001),\n",
    "              loss='categorical_crossentropy',metrics=['accuracy'])\n",
    "history=model.fit(x_train,y_train,\n",
    "                  epochs=200,\n",
    "                 validation_data=(x_test,y_test))\n",
    "# summarize history for accuracy\n",
    "plt.plot(history.history['acc'])\n",
    "plt.plot(history.history['val_acc'])\n",
    "plt.title('model accuracy')\n",
    "plt.ylabel('accuracy')\n",
    "plt.xlabel('epoch')\n",
    "plt.legend(['train', 'test'], loc='upper left')\n",
    "plt.show()\n",
    "# summarize history for loss\n",
    "plt.plot(history.history['loss'])\n",
    "plt.plot(history.history['val_loss'])\n",
    "plt.title('model loss')\n",
    "plt.ylabel('loss')\n",
    "plt.xlabel('epoch')\n",
    "plt.legend(['train', 'test'], loc='upper left')\n",
    "plt.show()\n",
    "\n"
   ]
  },
  {
   "cell_type": "code",
   "execution_count": null,
   "metadata": {},
   "outputs": [],
   "source": []
  }
 ],
 "metadata": {
  "kernelspec": {
   "display_name": "Python 3",
   "language": "python",
   "name": "python3"
  },
  "language_info": {
   "codemirror_mode": {
    "name": "ipython",
    "version": 3
   },
   "file_extension": ".py",
   "mimetype": "text/x-python",
   "name": "python",
   "nbconvert_exporter": "python",
   "pygments_lexer": "ipython3",
   "version": "3.7.1"
  }
 },
 "nbformat": 4,
 "nbformat_minor": 2
}
